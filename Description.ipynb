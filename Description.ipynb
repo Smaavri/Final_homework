{
 "cells": [
  {
   "cell_type": "code",
   "execution_count": 1,
   "id": "5d15246d-3ae5-4156-962f-592e9d3cfbb9",
   "metadata": {
    "tags": []
   },
   "outputs": [],
   "source": [
    "import pandas as pd"
   ]
  },
  {
   "cell_type": "code",
   "execution_count": 2,
   "id": "a53e18da-12ca-4dbc-af5b-ce88da8a5012",
   "metadata": {
    "tags": []
   },
   "outputs": [],
   "source": [
    "def get_gender(gender, i):\n",
    "    if gender[i] == \"female\":\n",
    "        return \"женского пола\"\n",
    "    elif gender[i] == \"male\":\n",
    "        return \"мужского пола\"\n",
    "    else:\n",
    "        return \"неизвестного пола\""
   ]
  },
  {
   "cell_type": "code",
   "execution_count": 3,
   "id": "cbdabf63-8b7c-45a6-a86a-5d0dfccf2de9",
   "metadata": {
    "tags": []
   },
   "outputs": [],
   "source": [
    "def get_device(device, i):\n",
    "    if device[i] == \"mobile\":\n",
    "        return \"мобильного\"\n",
    "    elif device[i] == \"tablet\" or \"laptop\":\n",
    "        return \"десктопного\""
   ]
  },
  {
   "cell_type": "code",
   "execution_count": 4,
   "id": "e569ba39-0199-4ca4-a97f-7b0dcbef6c60",
   "metadata": {
    "tags": []
   },
   "outputs": [],
   "source": [
    "def pars_csv_file(file_path):\n",
    "    df = pd.read_csv(file_path)\n",
    "    name = list(df['name'])\n",
    "    device = list(df['device_type'])\n",
    "    browser = list(df['browser'])\n",
    "    gender = list(df['sex'])\n",
    "    age = list(df['age'])\n",
    "    bill = list(df['bill'])\n",
    "    region = list(df['region'])\n",
    "    f = open(\"web_clients_correct.txt\", \"w\", encoding = \"utf-8\")\n",
    "    i = 0\n",
    "    while i < 915:\n",
    "        f.write(str(f\"Пользователь {name[i]} {get_gender(gender, i)}, {age[i]} лет совершила покупку на {bill[i]} у.е. с {get_device(device, i)} браузера {browser[i]}. Регион, из которого совершалась покупка: {region[i]}.\" + \"\\n\"))\n",
    "        i += 1\n",
    "    f.close"
   ]
  },
  {
   "cell_type": "code",
   "execution_count": 5,
   "id": "9f98a1ca-b5e3-4ab9-96da-bc69c11308a4",
   "metadata": {
    "tags": []
   },
   "outputs": [],
   "source": [
    "pars_csv_file(\"web_clients_correct.csv\")"
   ]
  },
  {
   "cell_type": "code",
   "execution_count": null,
   "id": "ce49128b-85bd-401d-bcd7-e7d7ee9c1d1f",
   "metadata": {
    "tags": []
   },
   "outputs": [],
   "source": []
  },
  {
   "cell_type": "code",
   "execution_count": null,
   "id": "e1c026bf-08c5-43ad-915b-d4725fbd830c",
   "metadata": {},
   "outputs": [],
   "source": []
  }
 ],
 "metadata": {
  "kernelspec": {
   "display_name": "Python 3",
   "language": "python",
   "name": "python3"
  },
  "language_info": {
   "codemirror_mode": {
    "name": "ipython",
    "version": 3
   },
   "file_extension": ".py",
   "mimetype": "text/x-python",
   "name": "python",
   "nbconvert_exporter": "python",
   "pygments_lexer": "ipython3",
   "version": "3.7.2"
  }
 },
 "nbformat": 4,
 "nbformat_minor": 5
}
